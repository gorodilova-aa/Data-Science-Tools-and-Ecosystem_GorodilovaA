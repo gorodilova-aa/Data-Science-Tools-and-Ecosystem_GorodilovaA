{
 "cells": [
  {
   "cell_type": "markdown",
   "id": "97891f0b-12c4-4a1e-9d0b-c33240a20050",
   "metadata": {},
   "source": [
    "# Data Science Tools and Ecosystem"
   ]
  },
  {
   "cell_type": "markdown",
   "id": "24207f19-9902-4b8b-96f4-2d6a0f9216b8",
   "metadata": {},
   "source": [
    "In this notebook, Data Science Tools and Ecosystem are summarized."
   ]
  },
  {
   "cell_type": "markdown",
   "id": "0c253cc0-30fa-495f-bd02-71801957e172",
   "metadata": {},
   "source": [
    "**Objectives:**\n",
    "- List popular languages for Data Science\n",
    "- List commonly used libraries for Data Science\n",
    "- List some Data Science Tools\n",
    "- Arithmetic expression examples"
   ]
  },
  {
   "cell_type": "markdown",
   "id": "3e51d29f-436c-4d8a-a7b7-d1590b929431",
   "metadata": {},
   "source": [
    "Some of the popular languages that Data Scientists use are:\n",
    "1. Python\n",
    "2. Julia\n",
    "3. R\n",
    "4. SQL\n",
    "5. Java"
   ]
  },
  {
   "cell_type": "markdown",
   "id": "7158d3e3-848a-4028-b6ec-7a2e2d32e21c",
   "metadata": {},
   "source": [
    "Some of the commonly used libraries used by Data Scientists include:\n",
    "1. NumPy\n",
    "2. Pandas\n",
    "3. Matplotlib\n",
    "4. Scikit-learn"
   ]
  },
  {
   "cell_type": "markdown",
   "id": "56922888-03a5-47c1-98b5-dc5bfaaa760f",
   "metadata": {},
   "source": [
    "|Data Science Tools|\n",
    "|------------------|\n",
    "|Jupiter Notebook|\n",
    "|Anaconda|\n",
    "|VisualStudio Code|"
   ]
  },
  {
   "cell_type": "markdown",
   "id": "d0bbbe69-a106-413e-b286-bd99dbede9ad",
   "metadata": {},
   "source": [
    "### Below are a few examples of evaluating arithmetic expressions in Python\n",
    "- 5+10\n",
    "- 7*100\n",
    "- (60-14) / 30"
   ]
  },
  {
   "cell_type": "code",
   "execution_count": 43,
   "id": "5a257c8c-58b4-4ffd-bbdd-140d79e7e609",
   "metadata": {},
   "outputs": [
    {
     "data": {
      "text/plain": [
       "17"
      ]
     },
     "execution_count": 43,
     "metadata": {},
     "output_type": "execute_result"
    }
   ],
   "source": [
    "# This a simple arithmetic expression to mutiply then add integers\n",
    "(3*4)+5"
   ]
  },
  {
   "cell_type": "code",
   "execution_count": 44,
   "id": "59ee1e4e-15fe-436f-a779-2b8a3a4fbcc7",
   "metadata": {},
   "outputs": [
    {
     "data": {
      "text/plain": [
       "3.3333333333333335"
      ]
     },
     "execution_count": 44,
     "metadata": {},
     "output_type": "execute_result"
    }
   ],
   "source": [
    "# This will convert 200 minutes to hours by diving by 60\n",
    "200 / 60"
   ]
  },
  {
   "cell_type": "markdown",
   "id": "9e847373-3a9d-4128-9490-aba1bc5a2f5b",
   "metadata": {},
   "source": [
    "## Author\n",
    "Anastasiia Gorodilova"
   ]
  },
  {
   "cell_type": "code",
   "execution_count": null,
   "id": "d19f030a-72be-4480-a073-a15002b3044d",
   "metadata": {},
   "outputs": [],
   "source": []
  }
 ],
 "metadata": {
  "kernelspec": {
   "display_name": "Python 3 (ipykernel)",
   "language": "python",
   "name": "python3"
  },
  "language_info": {
   "codemirror_mode": {
    "name": "ipython",
    "version": 3
   },
   "file_extension": ".py",
   "mimetype": "text/x-python",
   "name": "python",
   "nbconvert_exporter": "python",
   "pygments_lexer": "ipython3",
   "version": "3.12.4"
  }
 },
 "nbformat": 4,
 "nbformat_minor": 5
}
